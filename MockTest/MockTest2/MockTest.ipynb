{
 "cells": [
  {
   "attachments": {},
   "cell_type": "markdown",
   "metadata": {},
   "source": [
    "Q1"
   ]
  },
  {
   "cell_type": "code",
   "execution_count": 1,
   "metadata": {},
   "outputs": [
    {
     "name": "stdout",
     "output_type": "stream",
     "text": [
      "[2, 4, 6, 8, 10]\n"
     ]
    }
   ],
   "source": [
    "l = [1,2,3,4,5,6,7,8,9,10]\n",
    "new_list = []\n",
    "for i in l:\n",
    "    if i%2 == 0:\n",
    "        new_list.append(i)\n",
    "print(new_list)"
   ]
  },
  {
   "attachments": {},
   "cell_type": "markdown",
   "metadata": {},
   "source": [
    "Q2"
   ]
  },
  {
   "cell_type": "code",
   "execution_count": 8,
   "metadata": {},
   "outputs": [],
   "source": [
    "from time import time"
   ]
  },
  {
   "cell_type": "code",
   "execution_count": 12,
   "metadata": {},
   "outputs": [
    {
     "name": "stdout",
     "output_type": "stream",
     "text": [
      "Function  executed in 0.006000995635986328s\n"
     ]
    }
   ],
   "source": [
    "\n",
    "def timer_function(func):\n",
    "    def used_function(*args, **kwargs):\n",
    "        t1 = time()\n",
    "        result = func(*args, **kwargs)\n",
    "        t2 = time()\n",
    "        print(f'Function  executed in {(t2-t1)}s')\n",
    "        return result\n",
    "    return used_function\n",
    "  \n",
    "  \n",
    "@timer_function\n",
    "def long_time(n):\n",
    "    for i in range(100000):\n",
    "        i\n",
    "        \n",
    "  \n",
    "long_time(5)"
   ]
  },
  {
   "attachments": {},
   "cell_type": "markdown",
   "metadata": {},
   "source": [
    "Q3"
   ]
  },
  {
   "cell_type": "code",
   "execution_count": 13,
   "metadata": {},
   "outputs": [
    {
     "name": "stdout",
     "output_type": "stream",
     "text": [
      "44\n"
     ]
    }
   ],
   "source": [
    "def mean(numbers):\n",
    "    return sum(numbers)//len(numbers)\n",
    "l = [11,13,14,60,78,90]\n",
    "a = mean(l)\n",
    "print(a)"
   ]
  },
  {
   "attachments": {},
   "cell_type": "markdown",
   "metadata": {},
   "source": [
    "Q4"
   ]
  },
  {
   "cell_type": "code",
   "execution_count": 21,
   "metadata": {},
   "outputs": [
    {
     "name": "stdout",
     "output_type": "stream",
     "text": [
      "^C\n"
     ]
    },
    {
     "name": "stdout",
     "output_type": "stream",
     "text": [
      "Collecting pingouin\n",
      "  Downloading pingouin-0.5.3-py3-none-any.whl (198 kB)\n",
      "                                              0.0/198.6 kB ? eta -:--:--\n",
      "     ------------------                      92.2/198.6 kB 1.7 MB/s eta 0:00:01\n",
      "     -------------------------------------- 198.6/198.6 kB 2.0 MB/s eta 0:00:00\n",
      "Requirement already satisfied: numpy>=1.19 in c:\\users\\tushar\\appdata\\local\\packages\\pythonsoftwarefoundation.python.3.11_qbz5n2kfra8p0\\localcache\\local-packages\\python311\\site-packages (from pingouin) (1.24.3)\n",
      "Requirement already satisfied: scipy>=1.7 in c:\\users\\tushar\\appdata\\local\\packages\\pythonsoftwarefoundation.python.3.11_qbz5n2kfra8p0\\localcache\\local-packages\\python311\\site-packages (from pingouin) (1.10.1)\n",
      "Requirement already satisfied: pandas>=1.0 in c:\\users\\tushar\\appdata\\local\\packages\\pythonsoftwarefoundation.python.3.11_qbz5n2kfra8p0\\localcache\\local-packages\\python311\\site-packages (from pingouin) (2.0.1)\n",
      "Requirement already satisfied: matplotlib>=3.0.2 in c:\\users\\tushar\\appdata\\local\\packages\\pythonsoftwarefoundation.python.3.11_qbz5n2kfra8p0\\localcache\\local-packages\\python311\\site-packages (from pingouin) (3.7.1)\n",
      "Requirement already satisfied: seaborn>=0.11 in c:\\users\\tushar\\appdata\\local\\packages\\pythonsoftwarefoundation.python.3.11_qbz5n2kfra8p0\\localcache\\local-packages\\python311\\site-packages (from pingouin) (0.12.2)\n",
      "Collecting statsmodels>=0.13 (from pingouin)\n",
      "  Downloading statsmodels-0.14.0-cp311-cp311-win_amd64.whl (9.2 MB)\n",
      "                                              0.0/9.2 MB ? eta -:--:--\n",
      "                                              0.2/9.2 MB 6.3 MB/s eta 0:00:02\n",
      "     -                                        0.3/9.2 MB 5.0 MB/s eta 0:00:02\n",
      "     -                                        0.5/9.2 MB 4.0 MB/s eta 0:00:03\n",
      "     --                                       0.6/9.2 MB 3.6 MB/s eta 0:00:03\n",
      "     ---                                      0.7/9.2 MB 3.4 MB/s eta 0:00:03\n",
      "     ---                                      0.8/9.2 MB 3.5 MB/s eta 0:00:03\n",
      "     ----                                     1.0/9.2 MB 3.4 MB/s eta 0:00:03\n",
      "     ----                                     1.1/9.2 MB 3.4 MB/s eta 0:00:03\n",
      "     ----                                     1.1/9.2 MB 3.2 MB/s eta 0:00:03\n",
      "     ----                                     1.1/9.2 MB 3.2 MB/s eta 0:00:03\n",
      "     -----                                    1.3/9.2 MB 2.7 MB/s eta 0:00:03\n",
      "     ------                                   1.5/9.2 MB 2.9 MB/s eta 0:00:03\n",
      "     ------                                   1.6/9.2 MB 2.7 MB/s eta 0:00:03\n",
      "     -------                                  1.7/9.2 MB 2.8 MB/s eta 0:00:03\n",
      "     -------                                  1.8/9.2 MB 2.7 MB/s eta 0:00:03\n",
      "     --------                                 1.9/9.2 MB 2.7 MB/s eta 0:00:03\n",
      "     --------                                 2.0/9.2 MB 2.6 MB/s eta 0:00:03\n",
      "     ---------                                2.1/9.2 MB 2.6 MB/s eta 0:00:03\n",
      "     ---------                                2.2/9.2 MB 2.6 MB/s eta 0:00:03\n",
      "     ----------                               2.3/9.2 MB 2.6 MB/s eta 0:00:03\n",
      "     ----------                               2.4/9.2 MB 2.6 MB/s eta 0:00:03\n",
      "     ----------                               2.5/9.2 MB 2.6 MB/s eta 0:00:03\n",
      "     -----------                              2.7/9.2 MB 2.6 MB/s eta 0:00:03\n",
      "     ------------                             2.8/9.2 MB 2.6 MB/s eta 0:00:03\n",
      "     ------------                             2.9/9.2 MB 2.6 MB/s eta 0:00:03\n",
      "     -------------                            3.0/9.2 MB 2.6 MB/s eta 0:00:03\n",
      "     -------------                            3.1/9.2 MB 2.6 MB/s eta 0:00:03\n",
      "     --------------                           3.2/9.2 MB 2.5 MB/s eta 0:00:03\n",
      "     --------------                           3.3/9.2 MB 2.5 MB/s eta 0:00:03\n",
      "     ---------------                          3.5/9.2 MB 2.5 MB/s eta 0:00:03\n",
      "     ---------------                          3.6/9.2 MB 2.6 MB/s eta 0:00:03\n",
      "     ----------------                         3.7/9.2 MB 2.6 MB/s eta 0:00:03\n",
      "     ----------------                         3.9/9.2 MB 2.6 MB/s eta 0:00:03\n",
      "     -----------------                        4.0/9.2 MB 2.6 MB/s eta 0:00:02\n",
      "     -----------------                        4.1/9.2 MB 2.6 MB/s eta 0:00:02\n",
      "     ------------------                       4.2/9.2 MB 2.6 MB/s eta 0:00:02\n",
      "     ------------------                       4.2/9.2 MB 2.5 MB/s eta 0:00:02\n",
      "     -------------------                      4.4/9.2 MB 2.5 MB/s eta 0:00:02\n",
      "     -------------------                      4.5/9.2 MB 2.6 MB/s eta 0:00:02\n",
      "     --------------------                     4.7/9.2 MB 2.6 MB/s eta 0:00:02\n",
      "     ---------------------                    4.9/9.2 MB 2.6 MB/s eta 0:00:02\n",
      "     ----------------------                   5.1/9.2 MB 2.6 MB/s eta 0:00:02\n",
      "     ----------------------                   5.1/9.2 MB 2.6 MB/s eta 0:00:02\n",
      "     ----------------------                   5.2/9.2 MB 2.6 MB/s eta 0:00:02\n",
      "     -----------------------                  5.4/9.2 MB 2.6 MB/s eta 0:00:02\n",
      "     ------------------------                 5.6/9.2 MB 2.7 MB/s eta 0:00:02\n",
      "     ------------------------                 5.7/9.2 MB 2.7 MB/s eta 0:00:02\n",
      "     -------------------------                5.9/9.2 MB 2.7 MB/s eta 0:00:02\n",
      "     --------------------------               6.1/9.2 MB 2.7 MB/s eta 0:00:02\n",
      "     ---------------------------              6.2/9.2 MB 2.7 MB/s eta 0:00:02\n",
      "     ---------------------------              6.3/9.2 MB 2.7 MB/s eta 0:00:02\n",
      "     ----------------------------             6.6/9.2 MB 2.8 MB/s eta 0:00:01\n",
      "     -----------------------------            6.7/9.2 MB 2.8 MB/s eta 0:00:01\n",
      "     -----------------------------            6.9/9.2 MB 2.8 MB/s eta 0:00:01\n",
      "     ------------------------------           6.9/9.2 MB 2.8 MB/s eta 0:00:01\n",
      "     ------------------------------           7.0/9.2 MB 2.8 MB/s eta 0:00:01\n",
      "     -------------------------------          7.1/9.2 MB 2.7 MB/s eta 0:00:01\n",
      "     -------------------------------          7.2/9.2 MB 2.8 MB/s eta 0:00:01\n",
      "     -------------------------------          7.3/9.2 MB 2.7 MB/s eta 0:00:01\n",
      "     --------------------------------         7.5/9.2 MB 2.7 MB/s eta 0:00:01\n",
      "     --------------------------------         7.5/9.2 MB 2.7 MB/s eta 0:00:01\n",
      "     ---------------------------------        7.7/9.2 MB 2.7 MB/s eta 0:00:01\n",
      "     ---------------------------------        7.8/9.2 MB 2.7 MB/s eta 0:00:01\n",
      "     ----------------------------------       7.9/9.2 MB 2.7 MB/s eta 0:00:01\n",
      "     ----------------------------------       8.0/9.2 MB 2.7 MB/s eta 0:00:01\n",
      "     -----------------------------------      8.1/9.2 MB 2.7 MB/s eta 0:00:01\n",
      "     -----------------------------------      8.2/9.2 MB 2.7 MB/s eta 0:00:01\n",
      "     ------------------------------------     8.4/9.2 MB 2.7 MB/s eta 0:00:01\n",
      "     -------------------------------------    8.5/9.2 MB 2.7 MB/s eta 0:00:01\n",
      "     -------------------------------------    8.7/9.2 MB 2.7 MB/s eta 0:00:01\n",
      "     --------------------------------------   8.8/9.2 MB 2.7 MB/s eta 0:00:01\n",
      "     --------------------------------------   8.9/9.2 MB 2.7 MB/s eta 0:00:01\n",
      "     ---------------------------------------  9.0/9.2 MB 2.7 MB/s eta 0:00:01\n",
      "     ---------------------------------------  9.2/9.2 MB 2.7 MB/s eta 0:00:01\n",
      "     ---------------------------------------- 9.2/9.2 MB 2.7 MB/s eta 0:00:00\n",
      "Requirement already satisfied: scikit-learn in c:\\users\\tushar\\appdata\\local\\packages\\pythonsoftwarefoundation.python.3.11_qbz5n2kfra8p0\\localcache\\local-packages\\python311\\site-packages (from pingouin) (1.2.2)\n",
      "Collecting pandas-flavor>=0.2.0 (from pingouin)\n",
      "  Downloading pandas_flavor-0.5.0-py3-none-any.whl (7.1 kB)\n",
      "Collecting outdated (from pingouin)\n",
      "  Downloading outdated-0.2.2-py2.py3-none-any.whl (7.5 kB)\n",
      "Collecting tabulate (from pingouin)\n",
      "  Downloading tabulate-0.9.0-py3-none-any.whl (35 kB)\n",
      "Requirement already satisfied: contourpy>=1.0.1 in c:\\users\\tushar\\appdata\\local\\packages\\pythonsoftwarefoundation.python.3.11_qbz5n2kfra8p0\\localcache\\local-packages\\python311\\site-packages (from matplotlib>=3.0.2->pingouin) (1.0.7)\n",
      "Requirement already satisfied: cycler>=0.10 in c:\\users\\tushar\\appdata\\local\\packages\\pythonsoftwarefoundation.python.3.11_qbz5n2kfra8p0\\localcache\\local-packages\\python311\\site-packages (from matplotlib>=3.0.2->pingouin) (0.11.0)\n",
      "Requirement already satisfied: fonttools>=4.22.0 in c:\\users\\tushar\\appdata\\local\\packages\\pythonsoftwarefoundation.python.3.11_qbz5n2kfra8p0\\localcache\\local-packages\\python311\\site-packages (from matplotlib>=3.0.2->pingouin) (4.39.4)\n",
      "Requirement already satisfied: kiwisolver>=1.0.1 in c:\\users\\tushar\\appdata\\local\\packages\\pythonsoftwarefoundation.python.3.11_qbz5n2kfra8p0\\localcache\\local-packages\\python311\\site-packages (from matplotlib>=3.0.2->pingouin) (1.4.4)\n",
      "Requirement already satisfied: packaging>=20.0 in c:\\users\\tushar\\appdata\\local\\packages\\pythonsoftwarefoundation.python.3.11_qbz5n2kfra8p0\\localcache\\local-packages\\python311\\site-packages (from matplotlib>=3.0.2->pingouin) (23.1)\n",
      "Requirement already satisfied: pillow>=6.2.0 in c:\\users\\tushar\\appdata\\local\\packages\\pythonsoftwarefoundation.python.3.11_qbz5n2kfra8p0\\localcache\\local-packages\\python311\\site-packages (from matplotlib>=3.0.2->pingouin) (9.5.0)\n",
      "Requirement already satisfied: pyparsing>=2.3.1 in c:\\users\\tushar\\appdata\\local\\packages\\pythonsoftwarefoundation.python.3.11_qbz5n2kfra8p0\\localcache\\local-packages\\python311\\site-packages (from matplotlib>=3.0.2->pingouin) (3.0.9)\n",
      "Requirement already satisfied: python-dateutil>=2.7 in c:\\users\\tushar\\appdata\\local\\packages\\pythonsoftwarefoundation.python.3.11_qbz5n2kfra8p0\\localcache\\local-packages\\python311\\site-packages (from matplotlib>=3.0.2->pingouin) (2.8.2)\n",
      "Requirement already satisfied: pytz>=2020.1 in c:\\users\\tushar\\appdata\\local\\packages\\pythonsoftwarefoundation.python.3.11_qbz5n2kfra8p0\\localcache\\local-packages\\python311\\site-packages (from pandas>=1.0->pingouin) (2023.3)\n",
      "Requirement already satisfied: tzdata>=2022.1 in c:\\users\\tushar\\appdata\\local\\packages\\pythonsoftwarefoundation.python.3.11_qbz5n2kfra8p0\\localcache\\local-packages\\python311\\site-packages (from pandas>=1.0->pingouin) (2023.3)\n",
      "Collecting xarray (from pandas-flavor>=0.2.0->pingouin)\n",
      "  Downloading xarray-2023.6.0-py3-none-any.whl (999 kB)\n",
      "                                              0.0/999.1 kB ? eta -:--:--\n",
      "     ----                                   122.9/999.1 kB 3.6 MB/s eta 0:00:01\n",
      "     ---------                              256.0/999.1 kB 3.9 MB/s eta 0:00:01\n",
      "     -----------------                      471.0/999.1 kB 3.7 MB/s eta 0:00:01\n",
      "     ---------------------                  553.0/999.1 kB 3.5 MB/s eta 0:00:01\n",
      "     --------------------------             686.1/999.1 kB 3.1 MB/s eta 0:00:01\n",
      "     ----------------------------           747.5/999.1 kB 2.8 MB/s eta 0:00:01\n",
      "     --------------------------------       860.2/999.1 kB 2.9 MB/s eta 0:00:01\n",
      "     ----------------------------------     911.4/999.1 kB 2.7 MB/s eta 0:00:01\n",
      "     -------------------------------------  993.3/999.1 kB 2.5 MB/s eta 0:00:01\n",
      "     -------------------------------------- 999.1/999.1 kB 2.3 MB/s eta 0:00:00\n",
      "Collecting lazy-loader>=0.1 (from pandas-flavor>=0.2.0->pingouin)\n",
      "  Downloading lazy_loader-0.3-py3-none-any.whl (9.1 kB)\n",
      "Collecting patsy>=0.5.2 (from statsmodels>=0.13->pingouin)\n",
      "  Downloading patsy-0.5.3-py2.py3-none-any.whl (233 kB)\n",
      "                                              0.0/233.8 kB ? eta -:--:--\n",
      "     -------------                           81.9/233.8 kB 2.3 MB/s eta 0:00:01\n",
      "     -----------------------                143.4/233.8 kB 2.1 MB/s eta 0:00:01\n",
      "     -------------------------------        194.6/233.8 kB 2.0 MB/s eta 0:00:01\n",
      "     -------------------------------------- 233.8/233.8 kB 1.8 MB/s eta 0:00:00\n",
      "Requirement already satisfied: setuptools>=44 in c:\\program files\\windowsapps\\pythonsoftwarefoundation.python.3.11_3.11.1264.0_x64__qbz5n2kfra8p0\\lib\\site-packages (from outdated->pingouin) (65.5.0)\n",
      "Collecting littleutils (from outdated->pingouin)\n",
      "  Downloading littleutils-0.2.2.tar.gz (6.6 kB)\n",
      "  Installing build dependencies: started\n",
      "  Installing build dependencies: finished with status 'done'\n",
      "  Getting requirements to build wheel: started\n",
      "  Getting requirements to build wheel: finished with status 'done'\n",
      "  Preparing metadata (pyproject.toml): started\n",
      "  Preparing metadata (pyproject.toml): finished with status 'done'\n",
      "Requirement already satisfied: requests in c:\\users\\tushar\\appdata\\local\\packages\\pythonsoftwarefoundation.python.3.11_qbz5n2kfra8p0\\localcache\\local-packages\\python311\\site-packages (from outdated->pingouin) (2.30.0)\n",
      "Requirement already satisfied: joblib>=1.1.1 in c:\\users\\tushar\\appdata\\local\\packages\\pythonsoftwarefoundation.python.3.11_qbz5n2kfra8p0\\localcache\\local-packages\\python311\\site-packages (from scikit-learn->pingouin) (1.2.0)\n",
      "Requirement already satisfied: threadpoolctl>=2.0.0 in c:\\users\\tushar\\appdata\\local\\packages\\pythonsoftwarefoundation.python.3.11_qbz5n2kfra8p0\\localcache\\local-packages\\python311\\site-packages (from scikit-learn->pingouin) (3.1.0)\n",
      "Requirement already satisfied: six in c:\\users\\tushar\\appdata\\local\\packages\\pythonsoftwarefoundation.python.3.11_qbz5n2kfra8p0\\localcache\\local-packages\\python311\\site-packages (from patsy>=0.5.2->statsmodels>=0.13->pingouin) (1.16.0)\n",
      "Requirement already satisfied: charset-normalizer<4,>=2 in c:\\users\\tushar\\appdata\\local\\packages\\pythonsoftwarefoundation.python.3.11_qbz5n2kfra8p0\\localcache\\local-packages\\python311\\site-packages (from requests->outdated->pingouin) (3.1.0)\n",
      "Requirement already satisfied: idna<4,>=2.5 in c:\\users\\tushar\\appdata\\local\\packages\\pythonsoftwarefoundation.python.3.11_qbz5n2kfra8p0\\localcache\\local-packages\\python311\\site-packages (from requests->outdated->pingouin) (3.4)\n",
      "Requirement already satisfied: urllib3<3,>=1.21.1 in c:\\users\\tushar\\appdata\\local\\packages\\pythonsoftwarefoundation.python.3.11_qbz5n2kfra8p0\\localcache\\local-packages\\python311\\site-packages (from requests->outdated->pingouin) (2.0.2)\n",
      "Requirement already satisfied: certifi>=2017.4.17 in c:\\users\\tushar\\appdata\\local\\packages\\pythonsoftwarefoundation.python.3.11_qbz5n2kfra8p0\\localcache\\local-packages\\python311\\site-packages (from requests->outdated->pingouin) (2023.5.7)\n",
      "Building wheels for collected packages: littleutils\n",
      "  Building wheel for littleutils (pyproject.toml): started\n",
      "  Building wheel for littleutils (pyproject.toml): finished with status 'done'\n",
      "  Created wheel for littleutils: filename=littleutils-0.2.2-py3-none-any.whl size=7034 sha256=a67a620a1935c01728dd0e752eb579b5362749467e458c3425896061ca4a6659\n",
      "  Stored in directory: c:\\users\\tushar\\appdata\\local\\pip\\cache\\wheels\\17\\8d\\65\\9a39917567093c895549811c172be5d2dfb63c7e4b143e05a4\n",
      "Successfully built littleutils\n",
      "Installing collected packages: littleutils, tabulate, patsy, lazy-loader, outdated, xarray, statsmodels, pandas-flavor, pingouin\n",
      "Successfully installed lazy-loader-0.3 littleutils-0.2.2 outdated-0.2.2 pandas-flavor-0.5.0 patsy-0.5.3 pingouin-0.5.3 statsmodels-0.14.0 tabulate-0.9.0 xarray-2023.6.0\n"
     ]
    }
   ],
   "source": [
    "%pip install pingouin"
   ]
  },
  {
   "cell_type": "code",
   "execution_count": 23,
   "metadata": {},
   "outputs": [],
   "source": [
    "from scipy import stats\n",
    "import numpy as np\n",
    "import pingouin as pg"
   ]
  },
  {
   "cell_type": "code",
   "execution_count": 24,
   "metadata": {},
   "outputs": [
    {
     "name": "stdout",
     "output_type": "stream",
     "text": [
      "50.0 200.0\n"
     ]
    }
   ],
   "source": [
    "sample1 = [5, 10, 15, 20, 25]\n",
    "sample2 = [10, 20, 30, 40, 50]\n",
    "print(np.var(sample1),np.var(sample2))"
   ]
  },
  {
   "cell_type": "code",
   "execution_count": 25,
   "metadata": {},
   "outputs": [
    {
     "data": {
      "text/plain": [
       "Ttest_indResult(statistic=-1.8973665961010275, pvalue=0.09434977284243756)"
      ]
     },
     "execution_count": 25,
     "metadata": {},
     "output_type": "execute_result"
    }
   ],
   "source": [
    "stats.ttest_ind(a=sample1,b=sample2,equal_var=True)"
   ]
  },
  {
   "cell_type": "code",
   "execution_count": null,
   "metadata": {},
   "outputs": [],
   "source": [
    "# p_value->0.09434977284243756 is greater then alpha i.e 0.05 , so we cannot reject null hypothesis"
   ]
  },
  {
   "cell_type": "code",
   "execution_count": 26,
   "metadata": {},
   "outputs": [],
   "source": [
    "result = pg.ttest(sample1,sample2,correction=True)"
   ]
  },
  {
   "cell_type": "code",
   "execution_count": 27,
   "metadata": {},
   "outputs": [
    {
     "name": "stdout",
     "output_type": "stream",
     "text": [
      "               T       dof alternative     p-val           CI95%  cohen-d   \n",
      "T-test -1.897367  5.882353   two-sided  0.107531  [-34.44, 4.44]      1.2  \\\n",
      "\n",
      "         BF10     power  \n",
      "T-test  1.286  0.386437  \n"
     ]
    }
   ],
   "source": [
    "print(result)"
   ]
  }
 ],
 "metadata": {
  "kernelspec": {
   "display_name": "Python 3",
   "language": "python",
   "name": "python3"
  },
  "language_info": {
   "codemirror_mode": {
    "name": "ipython",
    "version": 3
   },
   "file_extension": ".py",
   "mimetype": "text/x-python",
   "name": "python",
   "nbconvert_exporter": "python",
   "pygments_lexer": "ipython3",
   "version": "3.11.4"
  },
  "orig_nbformat": 4
 },
 "nbformat": 4,
 "nbformat_minor": 2
}
