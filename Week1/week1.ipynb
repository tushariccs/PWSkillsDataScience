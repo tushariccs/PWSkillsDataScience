{
 "cells": [
  {
   "cell_type": "code",
   "execution_count": 3,
   "id": "c233a92d-132d-4aeb-88be-b318c4996975",
   "metadata": {},
   "outputs": [
    {
     "name": "stdout",
     "output_type": "stream",
     "text": [
      "Hello World\n"
     ]
    }
   ],
   "source": [
    "print(\"Hello World\")"
   ]
  },
  {
   "attachments": {},
   "cell_type": "markdown",
   "id": "a1110728-e209-463f-a6b2-907ced63f94e",
   "metadata": {},
   "source": [
    "print is the just a in-built function used in python and reserved keyword in python."
   ]
  },
  {
   "cell_type": "code",
   "execution_count": 6,
   "id": "eaf606fc-2d6c-4f81-923c-7b68e3fdaf75",
   "metadata": {},
   "outputs": [],
   "source": [
    "# variable\n",
    "a = 10 \n",
    "# variable is place where u can hold the data temporarily\n",
    "# It will reserve a area in the main memory "
   ]
  },
  {
   "cell_type": "code",
   "execution_count": 7,
   "id": "66eb8dba-e5bb-4df5-8acd-0bed571c14e7",
   "metadata": {},
   "outputs": [
    {
     "data": {
      "text/plain": [
       "10"
      ]
     },
     "execution_count": 7,
     "metadata": {},
     "output_type": "execute_result"
    }
   ],
   "source": [
    "a"
   ]
  },
  {
   "cell_type": "code",
   "execution_count": 8,
   "id": "f5ccad39-571a-4ce1-83cd-9bbb4f547289",
   "metadata": {},
   "outputs": [
    {
     "name": "stdout",
     "output_type": "stream",
     "text": [
      "<class 'int'>\n"
     ]
    }
   ],
   "source": [
    "print(type(a))\n",
    "# python is dynamic in nature,because it understand what type of data is assigned to a variable.\n"
   ]
  },
  {
   "cell_type": "code",
   "execution_count": 10,
   "id": "06f667f8-f554-4035-b874-f05400497e08",
   "metadata": {},
   "outputs": [],
   "source": [
    "b = 24.35"
   ]
  },
  {
   "cell_type": "code",
   "execution_count": 11,
   "id": "f38a0a8f-b5a1-4a78-9ef1-1288770b3985",
   "metadata": {},
   "outputs": [
    {
     "data": {
      "text/plain": [
       "24.35"
      ]
     },
     "execution_count": 11,
     "metadata": {},
     "output_type": "execute_result"
    }
   ],
   "source": [
    "b"
   ]
  },
  {
   "cell_type": "code",
   "execution_count": 12,
   "id": "b89181b0-16c3-4cde-a6a9-a5fefd5638a4",
   "metadata": {},
   "outputs": [
    {
     "data": {
      "text/plain": [
       "float"
      ]
     },
     "execution_count": 12,
     "metadata": {},
     "output_type": "execute_result"
    }
   ],
   "source": [
    "type(b)"
   ]
  },
  {
   "cell_type": "code",
   "execution_count": 13,
   "id": "871f1690-3407-45b1-8f89-34e0a4c86dc4",
   "metadata": {},
   "outputs": [],
   "source": [
    "c = \"Tushar\""
   ]
  },
  {
   "cell_type": "code",
   "execution_count": 14,
   "id": "28b5b117-28df-4b17-9958-b949e8f2afc5",
   "metadata": {},
   "outputs": [
    {
     "data": {
      "text/plain": [
       "'Tushar'"
      ]
     },
     "execution_count": 14,
     "metadata": {},
     "output_type": "execute_result"
    }
   ],
   "source": [
    "c"
   ]
  },
  {
   "cell_type": "code",
   "execution_count": 15,
   "id": "c38dc66f-7faf-4549-80cc-79dc5ccfd423",
   "metadata": {},
   "outputs": [
    {
     "data": {
      "text/plain": [
       "str"
      ]
     },
     "execution_count": 15,
     "metadata": {},
     "output_type": "execute_result"
    }
   ],
   "source": [
    "type(c)"
   ]
  },
  {
   "cell_type": "code",
   "execution_count": 17,
   "id": "bb4a587f-21b5-44b8-b33c-16ec3c809612",
   "metadata": {},
   "outputs": [],
   "source": [
    "d = True\n",
    "# Python is case-sensitive language.If 'T' in True is in lowercase then it will throw an error."
   ]
  },
  {
   "cell_type": "code",
   "execution_count": 18,
   "id": "6e3af3a7-7c01-4326-b8fd-bbed4eb78ae2",
   "metadata": {},
   "outputs": [
    {
     "data": {
      "text/plain": [
       "bool"
      ]
     },
     "execution_count": 18,
     "metadata": {},
     "output_type": "execute_result"
    }
   ],
   "source": [
    "type(d)"
   ]
  },
  {
   "cell_type": "code",
   "execution_count": 19,
   "id": "07670213-4c7e-4e89-9742-8a2fe5d2c2b4",
   "metadata": {},
   "outputs": [],
   "source": [
    "d1 = False"
   ]
  },
  {
   "cell_type": "code",
   "execution_count": 21,
   "id": "86f0737f-2ff7-4419-8f31-01570c0ccae1",
   "metadata": {},
   "outputs": [
    {
     "data": {
      "text/plain": [
       "bool"
      ]
     },
     "execution_count": 21,
     "metadata": {},
     "output_type": "execute_result"
    }
   ],
   "source": [
    "type(d1)\n",
    "#Here True->1 and False->0"
   ]
  },
  {
   "cell_type": "code",
   "execution_count": 22,
   "id": "0ff947f8-02fe-4bff-96f5-3987d1ceb568",
   "metadata": {},
   "outputs": [
    {
     "data": {
      "text/plain": [
       "1"
      ]
     },
     "execution_count": 22,
     "metadata": {},
     "output_type": "execute_result"
    }
   ],
   "source": [
    "True-False # True->1 and False->0 "
   ]
  },
  {
   "cell_type": "code",
   "execution_count": 23,
   "id": "eec1c872-63bc-4a26-8bbc-3e2fd4fbc5fa",
   "metadata": {},
   "outputs": [
    {
     "data": {
      "text/plain": [
       "0"
      ]
     },
     "execution_count": 23,
     "metadata": {},
     "output_type": "execute_result"
    }
   ],
   "source": [
    "True * False"
   ]
  },
  {
   "cell_type": "code",
   "execution_count": 24,
   "id": "fad8f235-cf01-48ab-924f-e45c9ef1111f",
   "metadata": {},
   "outputs": [
    {
     "data": {
      "text/plain": [
       "1"
      ]
     },
     "execution_count": 24,
     "metadata": {},
     "output_type": "execute_result"
    }
   ],
   "source": [
    "True + False"
   ]
  },
  {
   "cell_type": "code",
   "execution_count": 25,
   "id": "d779f136-e783-4e04-b98b-a4fc53642b16",
   "metadata": {},
   "outputs": [
    {
     "data": {
      "text/plain": [
       "0.0"
      ]
     },
     "execution_count": 25,
     "metadata": {},
     "output_type": "execute_result"
    }
   ],
   "source": [
    "False / True"
   ]
  },
  {
   "cell_type": "code",
   "execution_count": 26,
   "id": "645c5030-070a-4892-af55-ed880222c797",
   "metadata": {},
   "outputs": [
    {
     "ename": "ZeroDivisionError",
     "evalue": "division by zero",
     "output_type": "error",
     "traceback": [
      "\u001b[0;31m---------------------------------------------------------------------------\u001b[0m",
      "\u001b[0;31mZeroDivisionError\u001b[0m                         Traceback (most recent call last)",
      "Cell \u001b[0;32mIn[26], line 1\u001b[0m\n\u001b[0;32m----> 1\u001b[0m \u001b[38;5;28;43;01mTrue\u001b[39;49;00m\u001b[43m \u001b[49m\u001b[38;5;241;43m/\u001b[39;49m\u001b[43m \u001b[49m\u001b[38;5;28;43;01mFalse\u001b[39;49;00m\n",
      "\u001b[0;31mZeroDivisionError\u001b[0m: division by zero"
     ]
    }
   ],
   "source": [
    "True / False"
   ]
  },
  {
   "cell_type": "code",
   "execution_count": 38,
   "id": "f9ccd65b-06ce-4a72-8fd7-4862820e8909",
   "metadata": {},
   "outputs": [
    {
     "data": {
      "text/plain": [
       "0"
      ]
     },
     "execution_count": 38,
     "metadata": {},
     "output_type": "execute_result"
    }
   ],
   "source": [
    "False % True"
   ]
  },
  {
   "cell_type": "code",
   "execution_count": 27,
   "id": "a1cf2238-371b-4442-a376-187ed184ae06",
   "metadata": {},
   "outputs": [],
   "source": [
    "e = 4+7j\n",
    "# complex -> Real number + imaginary number\n",
    "# 4->real number and j represents the imaginary number\n",
    "# only j is used as imaginary number in Python"
   ]
  },
  {
   "cell_type": "code",
   "execution_count": 28,
   "id": "f429a7c6-1571-4eb8-98af-22d6a474c6cc",
   "metadata": {},
   "outputs": [
    {
     "data": {
      "text/plain": [
       "complex"
      ]
     },
     "execution_count": 28,
     "metadata": {},
     "output_type": "execute_result"
    }
   ],
   "source": [
    "type(e)"
   ]
  },
  {
   "cell_type": "code",
   "execution_count": 30,
   "id": "55bb35df-1d0c-40ba-a3c0-1ad43d0c84bf",
   "metadata": {},
   "outputs": [
    {
     "data": {
      "text/plain": [
       "(4+7j)"
      ]
     },
     "execution_count": 30,
     "metadata": {},
     "output_type": "execute_result"
    }
   ],
   "source": [
    "e"
   ]
  },
  {
   "cell_type": "code",
   "execution_count": 29,
   "id": "bcfb1c98-681e-4150-803b-6ef8b53e2694",
   "metadata": {},
   "outputs": [
    {
     "data": {
      "text/plain": [
       "4.0"
      ]
     },
     "execution_count": 29,
     "metadata": {},
     "output_type": "execute_result"
    }
   ],
   "source": [
    "e.real"
   ]
  },
  {
   "cell_type": "code",
   "execution_count": 31,
   "id": "e4b0ee7c-843e-49a8-bd12-ae191bfe4a8b",
   "metadata": {},
   "outputs": [
    {
     "data": {
      "text/plain": [
       "7.0"
      ]
     },
     "execution_count": 31,
     "metadata": {},
     "output_type": "execute_result"
    }
   ],
   "source": [
    "e.imag"
   ]
  },
  {
   "cell_type": "code",
   "execution_count": 34,
   "id": "cf2b02a1-175f-45aa-a1e1-7664fbace278",
   "metadata": {},
   "outputs": [
    {
     "data": {
      "text/plain": [
       "''"
      ]
     },
     "execution_count": 34,
     "metadata": {},
     "output_type": "execute_result"
    }
   ],
   "source": [
    "#->Single line comment\n",
    "\"\"\"\"\"\""
   ]
  },
  {
   "cell_type": "code",
   "execution_count": 35,
   "id": "36b45161-a3b2-45d3-b029-6d68945c3361",
   "metadata": {},
   "outputs": [],
   "source": [
    "# We can't start varibale with special character and numeric values"
   ]
  },
  {
   "cell_type": "code",
   "execution_count": 39,
   "id": "85efbde3-9090-47b8-8866-4add193aa502",
   "metadata": {},
   "outputs": [],
   "source": [
    "_a = 34"
   ]
  },
  {
   "cell_type": "code",
   "execution_count": 40,
   "id": "ed9c317b-abb2-4ed3-9f4e-7a2931ef24ea",
   "metadata": {},
   "outputs": [
    {
     "data": {
      "text/plain": [
       "34"
      ]
     },
     "execution_count": 40,
     "metadata": {},
     "output_type": "execute_result"
    }
   ],
   "source": [
    "_a"
   ]
  },
  {
   "cell_type": "code",
   "execution_count": 41,
   "id": "c3125a3f-df97-4858-874f-64b12645752b",
   "metadata": {},
   "outputs": [],
   "source": [
    "a1 = \"jbnjdfbsdfb\""
   ]
  },
  {
   "cell_type": "code",
   "execution_count": 42,
   "id": "8161dae8-05d7-4f76-b152-708de1e66aa1",
   "metadata": {},
   "outputs": [
    {
     "data": {
      "text/plain": [
       "'jbnjdfbsdfb'"
      ]
     },
     "execution_count": 42,
     "metadata": {},
     "output_type": "execute_result"
    }
   ],
   "source": [
    "a1"
   ]
  },
  {
   "cell_type": "code",
   "execution_count": 43,
   "id": "07cbc838-79a1-46b7-8930-391eb2ea9d1b",
   "metadata": {},
   "outputs": [],
   "source": [
    "a1  = 45"
   ]
  },
  {
   "cell_type": "code",
   "execution_count": 44,
   "id": "e4e30e00-bbbe-46a6-bb36-d7cfc3189aeb",
   "metadata": {},
   "outputs": [
    {
     "data": {
      "text/plain": [
       "45"
      ]
     },
     "execution_count": 44,
     "metadata": {},
     "output_type": "execute_result"
    }
   ],
   "source": [
    "a1"
   ]
  },
  {
   "cell_type": "code",
   "execution_count": 1,
   "id": "029716c1-1a2f-4e4b-ae10-9b4efc44cacf",
   "metadata": {},
   "outputs": [],
   "source": [
    "a = 'Tushar'"
   ]
  },
  {
   "cell_type": "code",
   "execution_count": 2,
   "id": "4708deaa-ba26-4dc2-aee4-8d8509fe6fc7",
   "metadata": {},
   "outputs": [],
   "source": [
    "b = 123"
   ]
  },
  {
   "cell_type": "code",
   "execution_count": 3,
   "id": "cb4d67a5-e9a4-4300-b997-ab7eb436542f",
   "metadata": {},
   "outputs": [
    {
     "ename": "TypeError",
     "evalue": "can only concatenate str (not \"int\") to str",
     "output_type": "error",
     "traceback": [
      "\u001b[0;31m---------------------------------------------------------------------------\u001b[0m",
      "\u001b[0;31mTypeError\u001b[0m                                 Traceback (most recent call last)",
      "Cell \u001b[0;32mIn[3], line 1\u001b[0m\n\u001b[0;32m----> 1\u001b[0m \u001b[43ma\u001b[49m\u001b[43m \u001b[49m\u001b[38;5;241;43m+\u001b[39;49m\u001b[43m \u001b[49m\u001b[43mb\u001b[49m\n",
      "\u001b[0;31mTypeError\u001b[0m: can only concatenate str (not \"int\") to str"
     ]
    }
   ],
   "source": [
    "a + b"
   ]
  },
  {
   "cell_type": "code",
   "execution_count": 6,
   "id": "aa5df135-a814-4c54-92cd-ea0943662ffa",
   "metadata": {},
   "outputs": [
    {
     "data": {
      "text/plain": [
       "'Tushar 123'"
      ]
     },
     "execution_count": 6,
     "metadata": {},
     "output_type": "execute_result"
    }
   ],
   "source": [
    "a + ' ' + str(b)"
   ]
  },
  {
   "cell_type": "code",
   "execution_count": 7,
   "id": "64caf1de-7557-4aa2-b067-46a7c2a02b06",
   "metadata": {},
   "outputs": [
    {
     "name": "stdout",
     "output_type": "stream",
     "text": [
      " Tusharrrrrrr\n"
     ]
    }
   ],
   "source": [
    "a = input()"
   ]
  },
  {
   "cell_type": "code",
   "execution_count": 8,
   "id": "abc70e88-2d78-4346-b119-71999f22a7cb",
   "metadata": {},
   "outputs": [
    {
     "data": {
      "text/plain": [
       "'Tusharrrrrrr'"
      ]
     },
     "execution_count": 8,
     "metadata": {},
     "output_type": "execute_result"
    }
   ],
   "source": [
    "a\n",
    "# by default the a stores string value due to input function"
   ]
  },
  {
   "cell_type": "code",
   "execution_count": 9,
   "id": "90aee806-a6aa-42bf-9efd-efb2b8e6a4c3",
   "metadata": {},
   "outputs": [
    {
     "name": "stdout",
     "output_type": "stream",
     "text": [
      " Tuhsaa\n"
     ]
    },
    {
     "ename": "ValueError",
     "evalue": "invalid literal for int() with base 10: 'Tuhsaa'",
     "output_type": "error",
     "traceback": [
      "\u001b[0;31m---------------------------------------------------------------------------\u001b[0m",
      "\u001b[0;31mValueError\u001b[0m                                Traceback (most recent call last)",
      "Cell \u001b[0;32mIn[9], line 1\u001b[0m\n\u001b[0;32m----> 1\u001b[0m b \u001b[38;5;241m=\u001b[39m \u001b[38;5;28;43mint\u001b[39;49m\u001b[43m(\u001b[49m\u001b[38;5;28;43minput\u001b[39;49m\u001b[43m(\u001b[49m\u001b[43m)\u001b[49m\u001b[43m)\u001b[49m\n",
      "\u001b[0;31mValueError\u001b[0m: invalid literal for int() with base 10: 'Tuhsaa'"
     ]
    }
   ],
   "source": [
    "b = int(input())\n",
    "#Here we cannot store string value as we are transforming or typecasting values to integer "
   ]
  },
  {
   "cell_type": "code",
   "execution_count": 10,
   "id": "c2cfe3af-9b73-4dce-bb3d-f4e2d15c7e6e",
   "metadata": {},
   "outputs": [
    {
     "name": "stdout",
     "output_type": "stream",
     "text": [
      " 1234567890\n"
     ]
    }
   ],
   "source": [
    "c = int(input())"
   ]
  },
  {
   "cell_type": "code",
   "execution_count": 11,
   "id": "5213b46c-db24-4840-89b4-3e52bf67b817",
   "metadata": {},
   "outputs": [
    {
     "data": {
      "text/plain": [
       "1234567890"
      ]
     },
     "execution_count": 11,
     "metadata": {},
     "output_type": "execute_result"
    }
   ],
   "source": [
    "c"
   ]
  },
  {
   "attachments": {},
   "cell_type": "markdown",
   "id": "0389fca1",
   "metadata": {},
   "source": [
    "Mutability and Immutability of the Objects"
   ]
  },
  {
   "cell_type": "code",
   "execution_count": 1,
   "id": "ae70be0f",
   "metadata": {},
   "outputs": [],
   "source": [
    "a = 'Tushar'"
   ]
  },
  {
   "cell_type": "code",
   "execution_count": 2,
   "id": "59efa0b0",
   "metadata": {},
   "outputs": [
    {
     "data": {
      "text/plain": [
       "'u'"
      ]
     },
     "execution_count": 2,
     "metadata": {},
     "output_type": "execute_result"
    }
   ],
   "source": [
    "a[1]\n",
    "#The string are stored as per index or we can say that it is array of string\n",
    "# T u s h a r\n",
    "# 0 1 2 3 4 5 \n",
    "#-5 -4 -3 -2 -1 \n",
    "#They can be fetch using index and also negative index\n",
    "#+ve index from left to right\n",
    "#-ve index from right to left \n",
    "# String is immutable as we can't change value of the item at a particular index       "
   ]
  },
  {
   "cell_type": "code",
   "execution_count": 3,
   "id": "a0cb05f9",
   "metadata": {},
   "outputs": [
    {
     "data": {
      "text/plain": [
       "'u'"
      ]
     },
     "execution_count": 3,
     "metadata": {},
     "output_type": "execute_result"
    }
   ],
   "source": [
    "a[-5]"
   ]
  },
  {
   "cell_type": "code",
   "execution_count": 5,
   "id": "324653f6",
   "metadata": {},
   "outputs": [
    {
     "data": {
      "text/plain": [
       "[2, 4, 6, 7, 8, 9, 'pwskills', True, (4+3j)]"
      ]
     },
     "execution_count": 5,
     "metadata": {},
     "output_type": "execute_result"
    }
   ],
   "source": [
    "# list is set of which able to hold all type of datatype\n",
    "# list is considered from [] and list()\n",
    "# List is mutable\n",
    "list1 = [2,4,6,7,8,9,\"pwskills\",True,4+3j]\n",
    "list1"
   ]
  },
  {
   "cell_type": "code",
   "execution_count": 8,
   "id": "de498afd",
   "metadata": {},
   "outputs": [
    {
     "data": {
      "text/plain": [
       "'pwskills'"
      ]
     },
     "execution_count": 8,
     "metadata": {},
     "output_type": "execute_result"
    }
   ],
   "source": [
    "type(list1)\n",
    "# In list also the values are stored as per indexing\n",
    "list1[-3]"
   ]
  },
  {
   "cell_type": "code",
   "execution_count": 10,
   "id": "d018387c",
   "metadata": {},
   "outputs": [
    {
     "data": {
      "text/plain": [
       "'datascience'"
      ]
     },
     "execution_count": 10,
     "metadata": {},
     "output_type": "execute_result"
    }
   ],
   "source": [
    "list1[-3] = \"datascience\"\n",
    "list1[-3]\n",
    "# List is mutable"
   ]
  },
  {
   "cell_type": "code",
   "execution_count": null,
   "id": "46213000",
   "metadata": {},
   "outputs": [],
   "source": [
    "'''\n",
    "If we can change the item value at a particular index is called mutability and where we can't then it is called as immutable.\n",
    "'''"
   ]
  }
 ],
 "metadata": {
  "kernelspec": {
   "display_name": "Python 3 (ipykernel)",
   "language": "python",
   "name": "python3"
  },
  "language_info": {
   "codemirror_mode": {
    "name": "ipython",
    "version": 3
   },
   "file_extension": ".py",
   "mimetype": "text/x-python",
   "name": "python",
   "nbconvert_exporter": "python",
   "pygments_lexer": "ipython3",
   "version": "3.11.3"
  }
 },
 "nbformat": 4,
 "nbformat_minor": 5
}
