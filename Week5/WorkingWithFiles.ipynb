{
 "cells": [
  {
   "cell_type": "code",
   "execution_count": 8,
   "metadata": {},
   "outputs": [],
   "source": [
    "f = open(\"test.txt\",'a')"
   ]
  },
  {
   "cell_type": "code",
   "execution_count": 7,
   "metadata": {},
   "outputs": [],
   "source": [
    "#pwd -> present current directory"
   ]
  },
  {
   "cell_type": "code",
   "execution_count": 3,
   "metadata": {},
   "outputs": [
    {
     "name": "stdout",
     "output_type": "stream",
     "text": [
      " Volume in drive C is OS\n",
      " Volume Serial Number is 4011-317E\n",
      "\n",
      " Directory of c:\\Users\\TUSHAR\\OneDrive\\Desktop\\PWSkillsDataScience\\Week5\n",
      "\n",
      "25-06-2023  10:04    <DIR>          .\n",
      "25-06-2023  10:03    <DIR>          ..\n",
      "25-06-2023  10:04                 0 test.txt\n",
      "25-06-2023  10:05               726 WorkingWithFiles.ipynb\n",
      "               2 File(s)            726 bytes\n",
      "               2 Dir(s)  80,372,453,376 bytes free\n"
     ]
    }
   ],
   "source": [
    "#ls ->list all the files in the current directory."
   ]
  },
  {
   "cell_type": "code",
   "execution_count": 9,
   "metadata": {},
   "outputs": [
    {
     "data": {
      "text/plain": [
       "750"
      ]
     },
     "execution_count": 9,
     "metadata": {},
     "output_type": "execute_result"
    }
   ],
   "source": [
    "f.write(\"Data Science Masters course is highly curated and uniquely designed according to the latest industry standards. This program instills students the skills essential to knowledge discovery efforts to identify standard, novel, and truly differentiated solutions and decision-making, including skills in managing, querying, analyzing, visualizing, and extracting meaning from extremely large data sets. This trending program provides students with the statistical, mathematical, and computational skills needed to meet the large-scale data science challenges of today's professional world. You will learn all the stack required to work in data science, data analytics, and big data industry including cloud infrastructure and real-time industry projects.\")\n",
    "#If u are looking for text in the file , firstly close i.e f.close f object then see the content in the file"
   ]
  },
  {
   "cell_type": "code",
   "execution_count": 10,
   "metadata": {},
   "outputs": [],
   "source": [
    "f.close()"
   ]
  },
  {
   "cell_type": "code",
   "execution_count": 12,
   "metadata": {},
   "outputs": [],
   "source": [
    "#Reading of the file\n",
    "data = open(\"test.txt\",'r')"
   ]
  },
  {
   "cell_type": "code",
   "execution_count": 13,
   "metadata": {},
   "outputs": [
    {
     "data": {
      "text/plain": [
       "\"Data Science Masters course is highly curated and uniquely designed according to the latest industry standards. \\nThis program instills students the skills essential to knowledge discovery efforts to identify standard, novel, and \\ntruly differentiated solutions and decision-making, including skills in managing, querying, analyzing, visualizing,\\nand extracting meaning from extremely large data sets.This trending program provides students with the statistical, \\nmathematical, and computational skills needed to meet the large-scale data science challenges of today's professional \\nworld. You will learn all the stack required to work in data science, data analytics, and big data industry including \\ncloud infrastructure and real-time industry projects.\\n\""
      ]
     },
     "execution_count": 13,
     "metadata": {},
     "output_type": "execute_result"
    }
   ],
   "source": [
    "data.read()"
   ]
  },
  {
   "cell_type": "code",
   "execution_count": 14,
   "metadata": {},
   "outputs": [
    {
     "data": {
      "text/plain": [
       "''"
      ]
     },
     "execution_count": 14,
     "metadata": {},
     "output_type": "execute_result"
    }
   ],
   "source": [
    "#Here why we are not getting data?\n",
    "'''\n",
    "The reason is that while above read method was called the pointer was near Data Science 'D' and ended at \\n\n",
    "and after below read method is called then the pointer remains there only and doesn't goes to first word of the text file\n",
    "'''\n",
    "data.read()"
   ]
  },
  {
   "cell_type": "code",
   "execution_count": 15,
   "metadata": {},
   "outputs": [
    {
     "data": {
      "text/plain": [
       "0"
      ]
     },
     "execution_count": 15,
     "metadata": {},
     "output_type": "execute_result"
    }
   ],
   "source": [
    "#Reset Cursor\n",
    "data.seek(0)"
   ]
  },
  {
   "cell_type": "code",
   "execution_count": 16,
   "metadata": {},
   "outputs": [
    {
     "data": {
      "text/plain": [
       "\"Data Science Masters course is highly curated and uniquely designed according to the latest industry standards. \\nThis program instills students the skills essential to knowledge discovery efforts to identify standard, novel, and \\ntruly differentiated solutions and decision-making, including skills in managing, querying, analyzing, visualizing,\\nand extracting meaning from extremely large data sets.This trending program provides students with the statistical, \\nmathematical, and computational skills needed to meet the large-scale data science challenges of today's professional \\nworld. You will learn all the stack required to work in data science, data analytics, and big data industry including \\ncloud infrastructure and real-time industry projects.\\n\""
      ]
     },
     "execution_count": 16,
     "metadata": {},
     "output_type": "execute_result"
    }
   ],
   "source": [
    "data.read()"
   ]
  },
  {
   "cell_type": "code",
   "execution_count": 17,
   "metadata": {},
   "outputs": [
    {
     "data": {
      "text/plain": [
       "''"
      ]
     },
     "execution_count": 17,
     "metadata": {},
     "output_type": "execute_result"
    }
   ],
   "source": [
    "data.read()"
   ]
  },
  {
   "cell_type": "code",
   "execution_count": 19,
   "metadata": {},
   "outputs": [
    {
     "data": {
      "text/plain": [
       "100"
      ]
     },
     "execution_count": 19,
     "metadata": {},
     "output_type": "execute_result"
    }
   ],
   "source": [
    "data.seek(100)"
   ]
  },
  {
   "cell_type": "code",
   "execution_count": 20,
   "metadata": {},
   "outputs": [
    {
     "data": {
      "text/plain": [
       "\" standards. \\nThis program instills students the skills essential to knowledge discovery efforts to identify standard, novel, and \\ntruly differentiated solutions and decision-making, including skills in managing, querying, analyzing, visualizing,\\nand extracting meaning from extremely large data sets.This trending program provides students with the statistical, \\nmathematical, and computational skills needed to meet the large-scale data science challenges of today's professional \\nworld. You will learn all the stack required to work in data science, data analytics, and big data industry including \\ncloud infrastructure and real-time industry projects.\\n\""
      ]
     },
     "execution_count": 20,
     "metadata": {},
     "output_type": "execute_result"
    }
   ],
   "source": [
    "data.read()"
   ]
  },
  {
   "cell_type": "code",
   "execution_count": 21,
   "metadata": {},
   "outputs": [],
   "source": [
    "data1 = open(\"test.txt\",'r')"
   ]
  },
  {
   "cell_type": "code",
   "execution_count": 22,
   "metadata": {},
   "outputs": [
    {
     "name": "stdout",
     "output_type": "stream",
     "text": [
      "Data Science Masters course is highly curated and uniquely designed according to the latest industry standards. \n",
      "\n",
      "This program instills students the skills essential to knowledge discovery efforts to identify standard, novel, and \n",
      "\n",
      "truly differentiated solutions and decision-making, including skills in managing, querying, analyzing, visualizing,\n",
      "\n",
      "and extracting meaning from extremely large data sets.This trending program provides students with the statistical, \n",
      "\n",
      "mathematical, and computational skills needed to meet the large-scale data science challenges of today's professional \n",
      "\n",
      "world. You will learn all the stack required to work in data science, data analytics, and big data industry including \n",
      "\n",
      "cloud infrastructure and real-time industry projects.\n",
      "\n"
     ]
    }
   ],
   "source": [
    "for i in data1:\n",
    "    print(i)"
   ]
  },
  {
   "cell_type": "code",
   "execution_count": 29,
   "metadata": {},
   "outputs": [],
   "source": [
    "import os"
   ]
  },
  {
   "cell_type": "code",
   "execution_count": 30,
   "metadata": {},
   "outputs": [
    {
     "data": {
      "text/plain": [
       "762"
      ]
     },
     "execution_count": 30,
     "metadata": {},
     "output_type": "execute_result"
    }
   ],
   "source": [
    "#To know the size of the file   \n",
    "os.path.getsize(\"test.txt\")\n",
    "#size is in byte"
   ]
  },
  {
   "cell_type": "code",
   "execution_count": 31,
   "metadata": {},
   "outputs": [],
   "source": [
    "import shutil"
   ]
  },
  {
   "cell_type": "code",
   "execution_count": 42,
   "metadata": {},
   "outputs": [
    {
     "data": {
      "text/plain": [
       "'new_test.txt'"
      ]
     },
     "execution_count": 42,
     "metadata": {},
     "output_type": "execute_result"
    }
   ],
   "source": [
    "#To copy the same content in the different file using above module/package\n",
    "shutil.copy(\"test.txt\",\"new_test.txt\")"
   ]
  },
  {
   "cell_type": "code",
   "execution_count": 37,
   "metadata": {},
   "outputs": [],
   "source": [
    "os.remove(\"new_test.txt\")"
   ]
  },
  {
   "cell_type": "code",
   "execution_count": 39,
   "metadata": {},
   "outputs": [
    {
     "name": "stdout",
     "output_type": "stream",
     "text": [
      "Data Science Masters course is highly curated and uniquely designed according to the latest industry standards. \n",
      "This program instills students the skills essential to knowledge discovery efforts to identify standard, novel, and \n",
      "truly differentiated solutions and decision-making, including skills in managing, querying, analyzing, visualizing,\n",
      "and extracting meaning from extremely large data sets.This trending program provides students with the statistical, \n",
      "mathematical, and computational skills needed to meet the large-scale data science challenges of today's professional \n",
      "world. You will learn all the stack required to work in data science, data analytics, and big data industry including \n",
      "cloud infrastructure and real-time industry projects.\n",
      "\n"
     ]
    }
   ],
   "source": [
    "#another way of opening the file\n",
    "with open(\"test.txt\",\"r\") as f:\n",
    "    print(f.read())"
   ]
  },
  {
   "cell_type": "code",
   "execution_count": 43,
   "metadata": {},
   "outputs": [],
   "source": [
    "#rename the file\n",
    "os.rename(\"new_test.txt\",\"test1.txt\")"
   ]
  }
 ],
 "metadata": {
  "kernelspec": {
   "display_name": "Python 3",
   "language": "python",
   "name": "python3"
  },
  "language_info": {
   "codemirror_mode": {
    "name": "ipython",
    "version": 3
   },
   "file_extension": ".py",
   "mimetype": "text/x-python",
   "name": "python",
   "nbconvert_exporter": "python",
   "pygments_lexer": "ipython3",
   "version": "3.11.4"
  },
  "orig_nbformat": 4
 },
 "nbformat": 4,
 "nbformat_minor": 2
}
